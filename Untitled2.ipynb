{
  "nbformat": 4,
  "nbformat_minor": 0,
  "metadata": {
    "colab": {
      "provenance": [],
      "collapsed_sections": [],
      "authorship_tag": "ABX9TyP4x1sXwLH5+ygGvAvO0Q4L",
      "include_colab_link": true
    },
    "kernelspec": {
      "name": "python3",
      "display_name": "Python 3"
    },
    "language_info": {
      "name": "python"
    }
  },
  "cells": [
    {
      "cell_type": "markdown",
      "metadata": {
        "id": "view-in-github",
        "colab_type": "text"
      },
      "source": [
        "<a href=\"https://colab.research.google.com/github/BGCha/HUFS_Python/blob/main/Untitled2.ipynb\" target=\"_parent\"><img src=\"https://colab.research.google.com/assets/colab-badge.svg\" alt=\"Open In Colab\"/></a>"
      ]
    },
    {
      "cell_type": "code",
      "execution_count": null,
      "metadata": {
        "colab": {
          "base_uri": "https://localhost:8080/"
        },
        "id": "WPV87ZqZC7_4",
        "outputId": "b201f5af-599c-4111-aeef-4efdb60ad339"
      },
      "outputs": [
        {
          "output_type": "stream",
          "name": "stdout",
          "text": [
            "자연수 한개를 입력하시고, 그만 입력하고 싶으면 0을 누르세요10\n",
            "자연수 한개를 입력하시고, 그만 입력하고 싶으면 0을 누르세요6\n",
            "자연수 한개를 입력하시고, 그만 입력하고 싶으면 0을 누르세요20\n",
            "자연수 한개를 입력하시고, 그만 입력하고 싶으면 0을 누르세요70\n",
            "자연수 한개를 입력하시고, 그만 입력하고 싶으면 0을 누르세요30\n",
            "자연수 한개를 입력하시고, 그만 입력하고 싶으면 0을 누르세요5\n",
            "자연수 한개를 입력하시고, 그만 입력하고 싶으면 0을 누르세요52\n",
            "자연수 한개를 입력하시고, 그만 입력하고 싶으면 0을 누르세요6\n",
            "자연수 한개를 입력하시고, 그만 입력하고 싶으면 0을 누르세요3\n",
            "자연수 한개를 입력하시고, 그만 입력하고 싶으면 0을 누르세요0\n",
            "[70, 52, 30, 20, 10, 6, 6, 5, 3]\n"
          ]
        }
      ],
      "source": [
        "#1번 문제\n",
        "i = 0\n",
        "x = list()\n",
        "while i < 100:\n",
        "    a = int(input('자연수 한개를 입력하시고, 그만 입력하고 싶으면 0을 누르세요'))\n",
        "    if a != 0:\n",
        "        x.append(a)\n",
        "        i += 1\n",
        "    else:\n",
        "        break\n",
        "        print('stop')\n",
        "        y = x\n",
        "        result = [0]\n",
        "        n = 0\n",
        "        while y :\n",
        "\n",
        "            for i in range(len(y)) :\n",
        "                if result[n] < y[i] :\n",
        "                    result[n] = y[i]\n",
        "            y.remove(result[n])\n",
        "            if y == [] :\n",
        "                 break\n",
        "            n += 1\n",
        "            result.append(0)\n",
        "        print(result)  \n",
        "        \n",
        "y = x\n",
        "result = [0]\n",
        "n = 0\n",
        "\n",
        "while y :\n",
        "\n",
        "    for i in range(len(y)) :\n",
        "        if result[n] < y[i] :\n",
        "            result[n] = y[i]\n",
        "    y.remove(result[n])\n",
        "    if y == [] :\n",
        "         break\n",
        "    n += 1\n",
        "    result.append(0)\n",
        "print(result)  "
      ]
    },
    {
      "cell_type": "code",
      "source": [
        "#2번 문제\n",
        "output = int(input('숫자를 입력하세요'))\n",
        "i = 1\n",
        "if output <= 30:\n",
        "  print(1)\n",
        "  while i < output:\n",
        "    i += 1\n",
        "    print(((i-1)*'*')+ str(i))\n",
        "else:\n",
        "  print('너무 많습니다')"
      ],
      "metadata": {
        "colab": {
          "base_uri": "https://localhost:8080/"
        },
        "id": "NXgiUP8oDnnr",
        "outputId": "4b393011-336c-48b7-c6b5-1d3529e3873b"
      },
      "execution_count": null,
      "outputs": [
        {
          "output_type": "stream",
          "name": "stdout",
          "text": [
            "숫자를 입력하세요5\n",
            "1\n",
            "*2\n",
            "**3\n",
            "***4\n",
            "****5\n"
          ]
        }
      ]
    },
    {
      "cell_type": "markdown",
      "source": [],
      "metadata": {
        "id": "vOnDOtXaaoJx"
      }
    }
  ]
}