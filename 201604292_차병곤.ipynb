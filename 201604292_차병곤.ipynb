{
  "nbformat": 4,
  "nbformat_minor": 0,
  "metadata": {
    "colab": {
      "provenance": [],
      "collapsed_sections": []
    },
    "kernelspec": {
      "name": "python3",
      "display_name": "Python 3"
    },
    "language_info": {
      "name": "python"
    }
  },
  "cells": [
    {
      "cell_type": "code",
      "execution_count": null,
      "metadata": {
        "colab": {
          "base_uri": "https://localhost:8080/"
        },
        "id": "EaP6TRQhNfTC",
        "outputId": "bde69f1f-934a-4d67-9a9a-4dc52f929e43"
      },
      "outputs": [
        {
          "output_type": "stream",
          "name": "stdout",
          "text": [
            "3\n"
          ]
        }
      ],
      "source": [
        "# 이름: 차병곤\n",
        "# 학번: 201604292\n",
        "\n",
        "a=1;\n",
        "b=2;\n",
        "print(a+b)"
      ]
    },
    {
      "cell_type": "code",
      "source": [
        "output = int(input('숫자를 입력하세요'))\n",
        "if int(output) <= 30: # column & row의 c와 r을 사용하여 행과 열을 표현했습니다.\n",
        "    for c in range(1, output+1): # 출력값의 높이가 int(output)보다 1커야 한다.\n",
        "        for r in range(1, c+1): # 만약 int(output)가 5일때는 마지막줄에 5개 숫자가 들어가야 하기 때문에 \n",
        "            print(r, end='') \n",
        "        print()\n",
        "else:\n",
        "  print('너무 많습니다')"
      ],
      "metadata": {
        "colab": {
          "base_uri": "https://localhost:8080/"
        },
        "id": "JlxWtF3tNyoS",
        "outputId": "86aca39c-3d6b-455a-9235-02b71a72a330"
      },
      "execution_count": 10,
      "outputs": [
        {
          "output_type": "stream",
          "name": "stdout",
          "text": [
            "숫자를 입력하세요31\n",
            "너무 많습니다\n"
          ]
        }
      ]
    }
  ]
}